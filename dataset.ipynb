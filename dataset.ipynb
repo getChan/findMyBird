{
 "cells": [
  {
   "cell_type": "code",
   "execution_count": 49,
   "metadata": {},
   "outputs": [],
   "source": [
    "import numpy as np\n",
    "import matplotlib.pyplot as plt\n",
    "import pylab\n",
    "\n",
    "from scipy.io import wavfile\n",
    "from scipy.fftpack import fft\n",
    "\n",
    "class DataSet :\n",
    "    global amptitude\n",
    "    def getData(self, wav_file) :                             #파일 명 입력받는다.\n",
    "        self.wav_file = wav_file                              #입력받아서 전역으로 만든다. 생성자에 추가할지 말지 고민중\n",
    "        \n",
    "        label = int(self.wav_file[-5:-4])                     #파일 이름 중에서 뒤에서 5번째를 int로 저장 ex) audio3.wav 에서는 3임\n",
    "        samplingFreq, mySound = wavfile.read(self.wav_file)   #wavfile.read로 읽음 \n",
    "            \n",
    "        mySoundDT = mySound.dtype\n",
    "        mySound = mySound / (2.**15)\n",
    "        \n",
    "        mySoundShape = mySound.shape\n",
    "        samplePoints = float(mySound.shape[0])\n",
    "        \n",
    "        singalDuration = round(mySound.shape[0]/ samplingFreq, 3)\n",
    "        self.mySoundOneChannel = mySound[:, 0]                #스테레오 오디오타입이기 때문에 하나만 쓴다.\n",
    "        \n",
    "        amptitude = self.mySoundOneChannel\n",
    "        timeArray = np.arange(0,samplePoints, 1)           \n",
    "        timeArray = timeArray / samplingFreq\n",
    "        timeArray = timeArray * 1000\n",
    "        plt.plot(timeArray, self.mySoundOneChannel, color='G')#플롯으로 보여줌 , 여기서 self.mySoundOneChannel이 우리가 데이터로 쓸 값\n",
    "        plt.xlabel('Time (ms)')\n",
    "        plt.ylabel('Amplitude')\n",
    "        plt.show()\n",
    "    def saveCsv(self):                                        #데이터 저장하는 함수\n",
    "        filename = self.wav_file.replace(\".wav\", \".csv\")  \n",
    "        np.savetxt((\"./csv/\"+filename), np.transpose(self.mySoundOneChannel*10000))\n"
   ]
  },
  {
   "cell_type": "code",
   "execution_count": 51,
   "metadata": {},
   "outputs": [
    {
     "name": "stderr",
     "output_type": "stream",
     "text": [
      "/anaconda3/envs/tensorflow/lib/python3.6/site-packages/scipy/io/wavfile.py:273: WavFileWarning: Chunk (non-data) not understood, skipping it.\n",
      "  WavFileWarning)\n"
     ]
    },
    {
     "data": {
      "image/png": "[encoded data removed]",
      "text/plain": [
       "<Figure size 432x288 with 1 Axes>"
      ]
     },
     "metadata": {
      "needs_background": "light"
     },
     "output_type": "display_data"
    },
    {
     "ename": "AttributeError",
     "evalue": "type object 'DataSet' has no attribute 'amptitude'",
     "output_type": "error",
     "traceback": [
      "\u001b[0;31m---------------------------------------------------------------------------\u001b[0m",
      "\u001b[0;31mAttributeError\u001b[0m                            Traceback (most recent call last)",
      "\u001b[0;32m<ipython-input-51-693d4c0fa8b6>\u001b[0m in \u001b[0;36m<module>\u001b[0;34m\u001b[0m\n\u001b[1;32m      3\u001b[0m     \u001b[0mfilename\u001b[0m \u001b[0;34m=\u001b[0m \u001b[0;34m\"audio\"\u001b[0m \u001b[0;34m+\u001b[0m \u001b[0mstr\u001b[0m\u001b[0;34m(\u001b[0m\u001b[0mi\u001b[0m\u001b[0;34m+\u001b[0m\u001b[0;36m1\u001b[0m\u001b[0;34m)\u001b[0m \u001b[0;34m+\u001b[0m\u001b[0;34m\".wav\"\u001b[0m\u001b[0;34m\u001b[0m\u001b[0;34m\u001b[0m\u001b[0m\n\u001b[1;32m      4\u001b[0m     \u001b[0ma\u001b[0m\u001b[0;34m.\u001b[0m\u001b[0mgetData\u001b[0m\u001b[0;34m(\u001b[0m\u001b[0mfilename\u001b[0m\u001b[0;34m)\u001b[0m\u001b[0;34m\u001b[0m\u001b[0;34m\u001b[0m\u001b[0m\n\u001b[0;32m----> 5\u001b[0;31m     \u001b[0mprint\u001b[0m\u001b[0;34m(\u001b[0m\u001b[0mDataSet\u001b[0m\u001b[0;34m.\u001b[0m\u001b[0mamptitude\u001b[0m\u001b[0;34m)\u001b[0m\u001b[0;34m\u001b[0m\u001b[0;34m\u001b[0m\u001b[0m\n\u001b[0m",
      "\u001b[0;31mAttributeError\u001b[0m: type object 'DataSet' has no attribute 'amptitude'"
     ]
    }
   ],
   "source": [
    "a = DataSet()\n",
    "for i in range(4):\n",
    "    filename = \"audio\" + str(i+1) +\".wav\"\n",
    "    a.getData(filename)\n",
    "    print(DataSet.amptitude)"
   ]
  },
  {
   "cell_type": "code",
   "execution_count": null,
   "metadata": {},
   "outputs": [],
   "source": []
  }
 ],
 "metadata": {
  "kernelspec": {
   "display_name": "Python 3",
   "language": "python",
   "name": "python3"
  },
  "language_info": {
   "codemirror_mode": {
    "name": "ipython",
    "version": 3
   },
   "file_extension": ".py",
   "mimetype": "text/x-python",
   "name": "python",
   "nbconvert_exporter": "python",
   "pygments_lexer": "ipython3",
   "version": "3.6.7"
  }
 },
 "nbformat": 4,
 "nbformat_minor": 2
}
