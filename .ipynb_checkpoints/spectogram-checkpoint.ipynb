{
 "cells": [
  {
   "cell_type": "code",
   "execution_count": 1,
   "metadata": {},
   "outputs": [
    {
     "name": "stderr",
     "output_type": "stream",
     "text": [
      "/anaconda3/lib/python3.6/site-packages/scipy/io/wavfile.py:273: WavFileWarning: Chunk (non-data) not understood, skipping it.\n",
      "  WavFileWarning)\n"
     ]
    },
    {
     "data": {
      "text/plain": [
       "<Figure size 640x480 with 1 Axes>"
      ]
     },
     "metadata": {},
     "output_type": "display_data"
    },
    {
     "name": "stderr",
     "output_type": "stream",
     "text": [
      "/anaconda3/lib/python3.6/site-packages/numpy/core/numeric.py:492: ComplexWarning: Casting complex values to real discards the imaginary part\n",
      "  return array(a, dtype, copy=False, order=order)\n"
     ]
    },
    {
     "data": {
      "text/plain": [
       "<Figure size 640x480 with 1 Axes>"
      ]
     },
     "metadata": {},
     "output_type": "display_data"
    },
    {
     "data": {
      "text/plain": [
       "<Figure size 640x480 with 1 Axes>"
      ]
     },
     "metadata": {},
     "output_type": "display_data"
    },
    {
     "name": "stdout",
     "output_type": "stream",
     "text": [
      "freqArrayLength = 142397\n",
      "fftArray length = 142397\n"
     ]
    }
   ],
   "source": [
    "import numpy\n",
    "import matplotlib.pyplot as plt\n",
    "import pylab\n",
    "from scipy.io import wavfile\n",
    "from scipy.fftpack import fft\n",
    "\n",
    "\n",
    "myAudio = \"audio.wav\"\n",
    "\n",
    "#Read file and get sampling freq [ usually 44100 Hz ]  and sound object\n",
    "samplingFreq, mySound = wavfile.read(myAudio)\n",
    "\n",
    "\n",
    "#Check if wave file is 16bit or 32 bit. 24bit is not supported\n",
    "mySoundDataType = mySound.dtype\n",
    "\n",
    "#We can convert our sound array to floating point values ranging from -1 to 1 as follows\n",
    "\n",
    "mySound = mySound / (2.**15)\n",
    "\n",
    "#Check sample points and sound channel for duel channel(5060, 2) or  (5060, ) for mono channel\n",
    "\n",
    "mySoundShape = mySound.shape\n",
    "samplePoints = float(mySound.shape[0])\n",
    "\n",
    "#Get duration of sound file\n",
    "signalDuration =  mySound.shape[0] / samplingFreq\n",
    "\n",
    "#If two channels, then select only one channel\n",
    "mySoundOneChannel = mySound[:,0]\n",
    "\n",
    "#Plotting the tone\n",
    "\n",
    "# We can represent sound by plotting the pressure values against time axis.\n",
    "#Create an array of sample point in one dimension\n",
    "timeArray = numpy.arange(0, samplePoints, 1)\n",
    "\n",
    "#\n",
    "timeArray = timeArray / samplingFreq\n",
    "\n",
    "#Scale to milliSeconds\n",
    "timeArray = timeArray * 1000\n",
    "#Plot the tone\n",
    "plt.plot(timeArray, mySoundOneChannel, color='G')\n",
    "plt.xlabel('Time (ms)')\n",
    "plt.ylabel('Amplitude')\n",
    "plt.show()\n",
    "\n",
    "\n",
    "#Plot frequency content\n",
    "#We can get frquency from amplitude and time using FFT , Fast Fourier Transform algorithm\n",
    "\n",
    "#Get length of mySound object array\n",
    "mySoundLength = len(mySound)\n",
    "\n",
    "#Take the Fourier transformation on given sample point \n",
    "#fftArray = fft(mySound)\n",
    "fftArray_2 = fft(mySoundOneChannel)\n",
    "numUniquePoints = numpy.ceil((mySoundLength + 1) / 2.0)\n",
    "numUniquePoints = int(numUniquePoints)\n",
    "fftArray = fftArray_2[0:numUniquePoints]\n",
    "\n",
    "#FFT contains both magnitude and phase and given in complex numbers in real + imaginary parts (a + ib) format.\n",
    "#By taking absolute value , we get only real part\n",
    "\n",
    "fftArray = abs(fftArray)\n",
    "\n",
    "#Scale the fft array by length of sample points so that magnitude does not depend on\n",
    "#the length of the signal or on its sampling frequency\n",
    "\n",
    "fftArray = fftArray / float(mySoundLength)\n",
    "\n",
    "#FFT has both positive and negative information. Square to get positive only\n",
    "fftArray = fftArray **2\n",
    "\n",
    "#Multiply by two (research why?)\n",
    "#Odd NFFT excludes Nyquist point\n",
    "if mySoundLength % 2 > 0: #we've got odd number of points in fft\n",
    "    fftArray[1:len(fftArray)] = fftArray[1:len(fftArray)] * 2\n",
    "\n",
    "else: #We've got even number of points in fft\n",
    "    fftArray[1:len(fftArray) -1] = fftArray[1:len(fftArray) -1] * 2  \n",
    "\n",
    "freqArray = numpy.arange(0, numUniquePoints, 1.0) * (samplingFreq / mySoundLength);\n",
    "plt.plot(timeArray, 10 * numpy.log10(fftArray_2), color='R')\n",
    "plt.xlabel('Time (ms)')\n",
    "plt.ylabel('frequency')\n",
    "plt.show()\n",
    "\n",
    "#Plot the frequency\n",
    "plt.plot(freqArray/1000, 10 * numpy.log10(fftArray), color='B')\n",
    "plt.xlabel('Frequency (Khz)')\n",
    "plt.ylabel('Power (dB)')\n",
    "plt.show()\n",
    "\n",
    "#Get List of element in frequency array\n",
    "#print freqArray.dtype.type\n",
    "freqArrayLength = len(freqArray)\n",
    "print (\"freqArrayLength =\", freqArrayLength)\n",
    "numpy.savetxt(\"freqData.txt\", freqArray, fmt='%6.2f')\n",
    "\n",
    "#Print FFtarray information\n",
    "print (\"fftArray length =\", len(fftArray))\n",
    "numpy.savetxt(\"fftData.txt\", fftArray)"
   ]
  },
  {
   "cell_type": "code",
   "execution_count": null,
   "metadata": {},
   "outputs": [],
   "source": []
  }
 ],
 "metadata": {
  "kernelspec": {
   "display_name": "Python 3",
   "language": "python",
   "name": "python3"
  },
  "language_info": {
   "codemirror_mode": {
    "name": "ipython",
    "version": 3
   },
   "file_extension": ".py",
   "mimetype": "text/x-python",
   "name": "python",
   "nbconvert_exporter": "python",
   "pygments_lexer": "ipython3",
   "version": "3.6.5"
  }
 },
 "nbformat": 4,
 "nbformat_minor": 2
}
